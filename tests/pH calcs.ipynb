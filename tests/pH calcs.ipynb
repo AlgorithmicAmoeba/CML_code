{
 "cells": [
  {
   "cell_type": "code",
   "execution_count": 1,
   "metadata": {},
   "outputs": [],
   "source": [
    "import sympy"
   ]
  },
  {
   "cell_type": "code",
   "execution_count": 2,
   "metadata": {},
   "outputs": [],
   "source": [
    "sympy.init_printing()"
   ]
  },
  {
   "cell_type": "code",
   "execution_count": 5,
   "metadata": {},
   "outputs": [
    {
     "data": {
      "image/png": "[encoded data removed]",
      "text/latex": [
       "$\\displaystyle \\left( C_{fa}, \\  C_{b}, \\  C_{a}, \\  C_{fa un}, \\  C_{fa minus}, \\  C_{b un}, \\  C_{b plus}, \\  C_{a un}, \\  C_{a minus}, \\  C_{h fa}, \\  C_{oh b}, \\  C_{h a}, \\  C_{h}, \\  K_{fa}, \\  K_{b}, \\  K_{a}\\right)$"
      ],
      "text/plain": [
       "(C_fa, C_b, Cₐ, C_fa_un, C_fa_minus, C_b_un, C_b_plus, Cₐ ᵤₙ, Cₐ ₘᵢₙᵤₛ, C_h_fa\n",
       ", C_oh_b, Cₕ ₐ, Cₕ, K_fa, K_b, Kₐ)"
      ]
     },
     "execution_count": 5,
     "metadata": {},
     "output_type": "execute_result"
    }
   ],
   "source": [
    "sympy.var(\"C_fa, C_b, C_a, C_fa_un, C_fa_minus, C_b_un, C_b_plus, C_a_un, C_a_minus, C_h_fa, C_oh_b, C_h_a, C_h, K_fa, K_b, K_a\")"
   ]
  },
  {
   "cell_type": "code",
   "execution_count": 6,
   "metadata": {},
   "outputs": [],
   "source": [
    "eqs = [\n",
    "    C_fa_un + C_fa_minus - C_fa,\n",
    "    C_b_un + C_b_plus - C_b,\n",
    "    C_a_un + C_a_minus - C_a,\n",
    "    \n",
    "    C_fa_minus - C_h_fa,\n",
    "    C_b_plus - C_oh_b,\n",
    "    C_a_minus - C_h_a,\n",
    "    \n",
    "    C_h * C_fa_minus / C_fa_un - K_fa,\n",
    "    C_h * C_b_un / C_b_plus - K_b,\n",
    "    C_h * C_a_minus / C_a_un - K_a,\n",
    "    \n",
    "    C_h_fa + C_h_a - C_oh_b - C_h\n",
    "]"
   ]
  },
  {
   "cell_type": "code",
   "execution_count": 7,
   "metadata": {},
   "outputs": [],
   "source": [
    "unks = [C_fa_un, C_fa_minus, C_b_un, C_b_plus, C_a_un, C_a_minus, C_h_fa, C_oh_b, C_h_a, C_h]"
   ]
  },
  {
   "cell_type": "code",
   "execution_count": 8,
   "metadata": {},
   "outputs": [
    {
     "data": {
      "image/png": "[encoded data removed]",
      "text/latex": [
       "$\\displaystyle \\left( 10, \\  10\\right)$"
      ],
      "text/plain": [
       "(10, 10)"
      ]
     },
     "execution_count": 8,
     "metadata": {},
     "output_type": "execute_result"
    }
   ],
   "source": [
    "len(eqs), len(unks)"
   ]
  },
  {
   "cell_type": "code",
   "execution_count": 11,
   "metadata": {},
   "outputs": [],
   "source": [
    "# ans = sympy.solve(eqs, unks)"
   ]
  },
  {
   "cell_type": "markdown",
   "metadata": {},
   "source": [
    "Seems to take too long to solve, maybe we can speed it up by doing some substitutions ourselves"
   ]
  },
  {
   "cell_type": "code",
   "execution_count": 13,
   "metadata": {},
   "outputs": [],
   "source": [
    "eqs = [\n",
    "    C_fa_un + C_fa_minus - C_fa,\n",
    "    C_b_un + C_b_plus - C_b,\n",
    "    C_a_un + C_a_minus - C_a,\n",
    "    \n",
    "    C_h * C_fa_minus / C_fa_un - K_fa,\n",
    "    C_h * C_b_un / C_b_plus - K_b,\n",
    "    C_h * C_a_minus / C_a_un - K_a,\n",
    "    \n",
    "    C_fa_minus + C_a_minus - C_b_plus - C_h\n",
    "]"
   ]
  },
  {
   "cell_type": "code",
   "execution_count": 14,
   "metadata": {},
   "outputs": [],
   "source": [
    "unks = [C_fa_un, C_fa_minus, C_b_un, C_b_plus, C_a_un, C_a_minus, C_h]"
   ]
  },
  {
   "cell_type": "code",
   "execution_count": 15,
   "metadata": {},
   "outputs": [
    {
     "data": {
      "image/png": "[encoded data removed]",
      "text/latex": [
       "$\\displaystyle \\left( 7, \\  7\\right)$"
      ],
      "text/plain": [
       "(7, 7)"
      ]
     },
     "execution_count": 15,
     "metadata": {},
     "output_type": "execute_result"
    }
   ],
   "source": [
    "len(eqs), len(unks)"
   ]
  },
  {
   "cell_type": "code",
   "execution_count": 17,
   "metadata": {},
   "outputs": [],
   "source": [
    "# ans = sympy.solve(eqs, unks)"
   ]
  },
  {
   "cell_type": "markdown",
   "metadata": {},
   "source": [
    "That seems to be too slow too. Maybe we could make the simplifying assumption that all the NaOH and all the HCl disociate:"
   ]
  },
  {
   "cell_type": "code",
   "execution_count": 18,
   "metadata": {},
   "outputs": [],
   "source": [
    "eqs = [\n",
    "    C_fa_un + C_fa_minus - C_fa,\n",
    "    \n",
    "    C_h * C_fa_minus / C_fa_un - K_fa,\n",
    "    \n",
    "    C_fa_minus + C_a - C_b - C_h\n",
    "]"
   ]
  },
  {
   "cell_type": "code",
   "execution_count": 26,
   "metadata": {},
   "outputs": [],
   "source": [
    "unks = [C_h, C_fa_un, C_fa_minus]"
   ]
  },
  {
   "cell_type": "code",
   "execution_count": 27,
   "metadata": {},
   "outputs": [
    {
     "data": {
      "image/png": "[encoded data removed]",
      "text/latex": [
       "$\\displaystyle \\left( 3, \\  3\\right)$"
      ],
      "text/plain": [
       "(3, 3)"
      ]
     },
     "execution_count": 27,
     "metadata": {},
     "output_type": "execute_result"
    }
   ],
   "source": [
    "len(eqs), len(unks)"
   ]
  },
  {
   "cell_type": "code",
   "execution_count": 28,
   "metadata": {},
   "outputs": [],
   "source": [
    "ans = sympy.solve(eqs, unks)"
   ]
  },
  {
   "cell_type": "code",
   "execution_count": 31,
   "metadata": {},
   "outputs": [
    {
     "data": {
      "image/png": "[encoded data removed]",
      "text/latex": [
       "$\\displaystyle \\left( \\frac{C_{a}}{2} - \\frac{C_{b}}{2} - \\frac{K_{fa}}{2} - \\frac{\\sqrt{C_{a}^{2} - 2 C_{a} C_{b} + 2 C_{a} K_{fa} + C_{b}^{2} - 2 C_{b} K_{fa} + 4 C_{fa} K_{fa} + K_{fa}^{2}}}{2}, \\  \\frac{C_{a}}{2} - \\frac{C_{b}}{2} + C_{fa} + \\frac{K_{fa}}{2} + \\frac{\\sqrt{C_{a}^{2} - 2 C_{a} C_{b} + 2 C_{a} K_{fa} + C_{b}^{2} - 2 C_{b} K_{fa} + 4 C_{fa} K_{fa} + K_{fa}^{2}}}{2}, \\  - \\frac{C_{a}}{2} + \\frac{C_{b}}{2} - \\frac{K_{fa}}{2} - \\frac{\\sqrt{C_{a}^{2} - 2 C_{a} C_{b} + 2 C_{a} K_{fa} + C_{b}^{2} - 2 C_{b} K_{fa} + 4 C_{fa} K_{fa} + K_{fa}^{2}}}{2}\\right)$"
      ],
      "text/plain": [
       "⎛                     ________________________________________________________\n",
       "⎜                    ╱   2                             2                      \n",
       "⎜Cₐ   C_b   K_fa   ╲╱  Cₐ  - 2⋅Cₐ⋅C_b + 2⋅Cₐ⋅K_fa + C_b  - 2⋅C_b⋅K_fa + 4⋅C_fa\n",
       "⎜── - ─── - ──── - ───────────────────────────────────────────────────────────\n",
       "⎝2     2     2                                         2                      \n",
       "\n",
       "______________                              __________________________________\n",
       "            2                              ╱   2                             2\n",
       "⋅K_fa + K_fa    Cₐ   C_b          K_fa   ╲╱  Cₐ  - 2⋅Cₐ⋅C_b + 2⋅Cₐ⋅K_fa + C_b \n",
       "──────────────, ── - ─── + C_fa + ──── + ─────────────────────────────────────\n",
       "                2     2            2                                         2\n",
       "\n",
       "____________________________________                         _________________\n",
       "                                  2                         ╱   2             \n",
       " - 2⋅C_b⋅K_fa + 4⋅C_fa⋅K_fa + K_fa      Cₐ   C_b   K_fa   ╲╱  Cₐ  - 2⋅Cₐ⋅C_b +\n",
       "────────────────────────────────────, - ── + ─── - ──── - ────────────────────\n",
       "                                        2     2     2                         \n",
       "\n",
       "_____________________________________________________⎞\n",
       "                2                                  2 ⎟\n",
       " 2⋅Cₐ⋅K_fa + C_b  - 2⋅C_b⋅K_fa + 4⋅C_fa⋅K_fa + K_fa  ⎟\n",
       "─────────────────────────────────────────────────────⎟\n",
       "                2                                    ⎠"
      ]
     },
     "execution_count": 31,
     "metadata": {},
     "output_type": "execute_result"
    }
   ],
   "source": [
    "ans[0]"
   ]
  },
  {
   "cell_type": "code",
   "execution_count": 34,
   "metadata": {},
   "outputs": [
    {
     "data": {
      "image/png": "[encoded data removed]",
      "text/latex": [
       "$\\displaystyle \\left( \\frac{C_{a}}{2} - \\frac{C_{b}}{2} - \\frac{K_{fa}}{2} + \\frac{\\sqrt{C_{a}^{2} - 2 C_{a} C_{b} + 2 C_{a} K_{fa} + C_{b}^{2} - 2 C_{b} K_{fa} + 4 C_{fa} K_{fa} + K_{fa}^{2}}}{2}, \\  \\frac{C_{a}}{2} - \\frac{C_{b}}{2} + C_{fa} + \\frac{K_{fa}}{2} - \\frac{\\sqrt{C_{a}^{2} - 2 C_{a} C_{b} + 2 C_{a} K_{fa} + C_{b}^{2} - 2 C_{b} K_{fa} + 4 C_{fa} K_{fa} + K_{fa}^{2}}}{2}, \\  - \\frac{C_{a}}{2} + \\frac{C_{b}}{2} - \\frac{K_{fa}}{2} + \\frac{\\sqrt{C_{a}^{2} - 2 C_{a} C_{b} + 2 C_{a} K_{fa} + C_{b}^{2} - 2 C_{b} K_{fa} + 4 C_{fa} K_{fa} + K_{fa}^{2}}}{2}\\right)$"
      ],
      "text/plain": [
       "⎛                     ________________________________________________________\n",
       "⎜                    ╱   2                             2                      \n",
       "⎜Cₐ   C_b   K_fa   ╲╱  Cₐ  - 2⋅Cₐ⋅C_b + 2⋅Cₐ⋅K_fa + C_b  - 2⋅C_b⋅K_fa + 4⋅C_fa\n",
       "⎜── - ─── - ──── + ───────────────────────────────────────────────────────────\n",
       "⎝2     2     2                                         2                      \n",
       "\n",
       "______________                              __________________________________\n",
       "            2                              ╱   2                             2\n",
       "⋅K_fa + K_fa    Cₐ   C_b          K_fa   ╲╱  Cₐ  - 2⋅Cₐ⋅C_b + 2⋅Cₐ⋅K_fa + C_b \n",
       "──────────────, ── - ─── + C_fa + ──── - ─────────────────────────────────────\n",
       "                2     2            2                                         2\n",
       "\n",
       "____________________________________                         _________________\n",
       "                                  2                         ╱   2             \n",
       " - 2⋅C_b⋅K_fa + 4⋅C_fa⋅K_fa + K_fa      Cₐ   C_b   K_fa   ╲╱  Cₐ  - 2⋅Cₐ⋅C_b +\n",
       "────────────────────────────────────, - ── + ─── - ──── + ────────────────────\n",
       "                                        2     2     2                         \n",
       "\n",
       "_____________________________________________________⎞\n",
       "                2                                  2 ⎟\n",
       " 2⋅Cₐ⋅K_fa + C_b  - 2⋅C_b⋅K_fa + 4⋅C_fa⋅K_fa + K_fa  ⎟\n",
       "─────────────────────────────────────────────────────⎟\n",
       "                2                                    ⎠"
      ]
     },
     "execution_count": 34,
     "metadata": {},
     "output_type": "execute_result"
    }
   ],
   "source": [
    "ans[1]"
   ]
  },
  {
   "cell_type": "code",
   "execution_count": 35,
   "metadata": {},
   "outputs": [
    {
     "name": "stdout",
     "output_type": "stream",
     "text": [
      "C_a = Symbol('C_a')\n",
      "C_b = Symbol('C_b')\n",
      "K_fa = Symbol('K_fa')\n",
      "C_fa = Symbol('C_fa')\n",
      "e = C_a/2 - C_b/2 - K_fa/2 + sqrt(C_a**2 - 2*C_a*C_b + 2*C_a*K_fa + C_b**2 - 2*C_b*K_fa + 4*C_fa*K_fa + K_fa**2)/2\n"
     ]
    }
   ],
   "source": [
    "sympy.print_python(ans[1][0])"
   ]
  },
  {
   "cell_type": "code",
   "execution_count": null,
   "metadata": {},
   "outputs": [],
   "source": []
  }
 ],
 "metadata": {
  "kernelspec": {
   "display_name": "Python 3",
   "language": "python",
   "name": "python3"
  },
  "language_info": {
   "codemirror_mode": {
    "name": "ipython",
    "version": 3
   },
   "file_extension": ".py",
   "mimetype": "text/x-python",
   "name": "python",
   "nbconvert_exporter": "python",
   "pygments_lexer": "ipython3",
   "version": "3.7.3"
  }
 },
 "nbformat": 4,
 "nbformat_minor": 2
}
